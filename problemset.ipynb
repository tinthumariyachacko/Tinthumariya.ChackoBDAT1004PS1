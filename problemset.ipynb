{
 "cells": [
  {
   "cell_type": "markdown",
   "id": "2521d668",
   "metadata": {},
   "source": [
    "question1\n",
    "the data types are:\n",
    "5 Int32\n",
    "5.0 Double\n",
    "5>1 Boolean\n",
    "'5' String\n",
    "5 * 2 Int32\n",
    "'5'* 2 String\n",
    "'5'+ '2'String\n",
    "5/2 Int32\n",
    "5%2 Double\n",
    "{5,2.1}List\n",
    "5 == 3 Boolean\n",
    "pi(the number) Double\n",
    "\n"
   ]
  },
  {
   "cell_type": "markdown",
   "id": "c3423f60",
   "metadata": {},
   "source": [
    "question6"
   ]
  },
  {
   "cell_type": "code",
   "execution_count": 2,
   "id": "d3985d51",
   "metadata": {},
   "outputs": [
    {
     "data": {
      "text/plain": [
       "'encilpay'"
      ]
     },
     "execution_count": 2,
     "metadata": {},
     "output_type": "execute_result"
    }
   ],
   "source": [
    "\n",
    "def pig(x):\n",
    "    vowel =['a','e','i','o','u']\n",
    "    y=''\n",
    "    if x[0].lower() in vowel:\n",
    "        y=x+'way'\n",
    "        return y\n",
    "    else:\n",
    "        y=x[1:]+x[0]+'ay'\n",
    "        return y\n",
    "    \n",
    "pig('happy')\n",
    "pig('pencil')"
   ]
  },
  {
   "cell_type": "markdown",
   "id": "0fd5bff3",
   "metadata": {},
   "source": [
    "question7"
   ]
  },
  {
   "cell_type": "code",
   "execution_count": 5,
   "id": "3d37dd80",
   "metadata": {},
   "outputs": [
    {
     "name": "stdout",
     "output_type": "stream",
     "text": [
      "bloodtype1.txt\n",
      "There are 15 patients of blood type A\n",
      "There are 1 patients of blood type B\n",
      "There are 13 patients of blood type AB\n",
      "There are 15 patients of blood type O\n",
      "There are 0 patients of blood type OO\n"
     ]
    }
   ],
   "source": [
    "\n",
    "def bldcount(x):\n",
    "    print(x)\n",
    "    f = open(x,\"r\")\n",
    "    file_words=f.read().split()\n",
    "    count_A,count_B,count_AB,count_O,count_OO =0,0,0,0,0\n",
    "    for i in file_words:\n",
    "        if i == 'A':\n",
    "            count_A+=1\n",
    "        elif i=='B':\n",
    "            count_B+=1\n",
    "        elif i=='AB':\n",
    "            count_AB+=1\n",
    "        elif i=='O':\n",
    "            count_O+=1\n",
    "        else:\n",
    "            count_OO+=1\n",
    "    print(\"There are\",count_A,\"patients of blood type A\")\n",
    "    print(\"There are\", count_B,\"patients of blood type B\")\n",
    "    print(\"There are\",count_AB,\"patients of blood type AB\")\n",
    "    print(\"There are\",count_O,\"patients of blood type O\")\n",
    "    print(\"There are\",count_OO,\"patients of blood type OO\")\n",
    "\n",
    "bldcount(\"bloodtype1.txt\")"
   ]
  },
  {
   "cell_type": "markdown",
   "id": "d315ef98",
   "metadata": {},
   "source": [
    "question8"
   ]
  },
  {
   "cell_type": "code",
   "execution_count": 7,
   "id": "22868229",
   "metadata": {},
   "outputs": [
    {
     "data": {
      "text/plain": [
       "1.241401"
      ]
     },
     "execution_count": 7,
     "metadata": {},
     "output_type": "execute_result"
    }
   ],
   "source": [
    "\n",
    "def curconv(x,y):\n",
    "    f = open(\"currencies.txt\",\"r\")\n",
    "    g=f.readlines()\n",
    "    list1=[]\n",
    "    list2=[]\n",
    "    list3=[]\n",
    "    f.close()\n",
    "    for i in g:\n",
    "        j=0\n",
    "        k=i.split('\\t')\n",
    "        for j in range(len(k)-2):\n",
    "            list1.append(k[j])\n",
    "            list2.append(float(k[j+1]))\n",
    "            list3.append(k[j+2].strip())\n",
    "    h=list1.index(x)\n",
    "    return y*list2[h]\n",
    "curconv(\"EUR\",100)\n",
    "curconv(\"JPY\",100)"
   ]
  },
  {
   "cell_type": "markdown",
   "id": "af2979cc",
   "metadata": {},
   "source": [
    "question10"
   ]
  },
  {
   "cell_type": "code",
   "execution_count": 21,
   "id": "17106c4b",
   "metadata": {},
   "outputs": [
    {
     "name": "stdout",
     "output_type": "stream",
     "text": [
      "[1, 1, 1, 3, 5, 1, 1, 2, 1, 0, 1, 0, 1, 2, 4, 0, 1, 2, 0, 2, 1, 0, 0, 0, 0]\n",
      "[1, 0, 0, 0, 1, 0, 0, 0, 0, 0, 0, 1, 0, 0, 0, 2, 0, 0, 0, 0, 0, 0, 0, 0, 0]\n"
     ]
    }
   ],
   "source": [
    "\n",
    "def frequencies(text):\n",
    "    alphabets = ('a','b','c','d','e','f','g','h','i','j','k','l','m','n','o','p','q','r','s','t','u','v','w''x','y','z')\n",
    "    total_characters = []\n",
    "    alpha_dict = {}\n",
    "    for word in text:\n",
    "        for char in word:\n",
    "            if char.isalpha():\n",
    "                total_characters.append(char)\n",
    "    for char in alphabets:\n",
    "        if char in total_characters:\n",
    "            alpha_dict[char] = total_characters.count(char)\n",
    "        else:\n",
    "            alpha_dict[char] = 0\n",
    "            \n",
    "    print(list(alpha_dict.values()))\n",
    "    \n",
    "frequencies('The quick red fox got bored and went home.')\n",
    "frequencies('apple')"
   ]
  },
  {
   "cell_type": "markdown",
   "id": "d8f75e38",
   "metadata": {},
   "source": [
    "question9"
   ]
  },
  {
   "cell_type": "code",
   "execution_count": 17,
   "id": "56942b90",
   "metadata": {},
   "outputs": [
    {
     "ename": "TypeError",
     "evalue": "unsupported operand type(s) for +: 'int' and 'str'",
     "output_type": "error",
     "traceback": [
      "\u001b[1;31m---------------------------------------------------------------------------\u001b[0m",
      "\u001b[1;31mTypeError\u001b[0m                                 Traceback (most recent call last)",
      "Input \u001b[1;32mIn [17]\u001b[0m, in \u001b[0;36m<cell line: 1>\u001b[1;34m()\u001b[0m\n\u001b[1;32m----> 1\u001b[0m \u001b[38;5;28mprint\u001b[39m( \u001b[38;5;241;43m6\u001b[39;49m\u001b[43m \u001b[49m\u001b[38;5;241;43m+\u001b[39;49m\u001b[43m \u001b[49m\u001b[38;5;124;43m'\u001b[39;49m\u001b[38;5;124;43ma\u001b[39;49m\u001b[38;5;124;43m'\u001b[39;49m)\n",
      "\u001b[1;31mTypeError\u001b[0m: unsupported operand type(s) for +: 'int' and 'str'"
     ]
    }
   ],
   "source": [
    "\n",
    "print( 6 + 'a')"
   ]
  },
  {
   "cell_type": "markdown",
   "id": "c5798468",
   "metadata": {},
   "source": [
    " it is not possible to add an integer and a string"
   ]
  },
  {
   "cell_type": "markdown",
   "id": "c1415b64",
   "metadata": {},
   "source": [
    "question\n",
    "refering to the 12 th item of a list that has only 10 items\n",
    "      ans: error:out of index"
   ]
  },
  {
   "cell_type": "markdown",
   "id": "985aa07f",
   "metadata": {},
   "source": [
    " question\n",
    "    Using a value that is out ofrange for a function’s \n",
    "input, such as calling math.sqrt(-1.0)\n",
    "      ans:error: domain error"
   ]
  },
  {
   "cell_type": "markdown",
   "id": "e6d866b6",
   "metadata": {},
   "source": [
    "question\n",
    "Using an undeclared variable, such as print(x)\n",
    "when x has not been defined\n",
    "     ans:error:variable is not defined"
   ]
  },
  {
   "cell_type": "markdown",
   "id": "362317b0",
   "metadata": {},
   "source": [
    "question\n",
    "Trying to open a file that does not exist, such as \n",
    "mistyping the file name or looking in the wrong \n",
    "directory\n",
    "      ans:error:no directory is found"
   ]
  },
  {
   "cell_type": "markdown",
   "id": "ba77b18c",
   "metadata": {},
   "source": [
    "question3 C#"
   ]
  },
  {
   "cell_type": "markdown",
   "id": "2e7dd759",
   "metadata": {},
   "source": [
    "\n",
    "\n",
    "using System;\n",
    "\t\t\t\t\t\n",
    "public class AreaofTriangle\n",
    "{\n",
    "\tpublic static void Main()\n",
    "\t{\n",
    "\t\tint lengtha = 2, lengthb = 2, lengthc = 2:\n",
    "\t\tConsole.Writeline($\"Value of lengtha = {lenhtha}, lengthb = {lengthb}, length c={length3}\");\n",
    "\t\tdouble semiperimeter = (lengtha + lengthb + lengthc)/2;\n",
    "\t\tdouble Area = Math.Sqrt(semiperimeter *(semiperimeter-length1)*(semiperimeter-length2)*(semiperimeter-length3));\n",
    "\t\tConsole.Write(\"Area of Triangle = \" + Area);\n",
    "\t\tConsole.ReadKey();\n",
    "\t}\n",
    "}"
   ]
  }
 ],
 "metadata": {
  "kernelspec": {
   "display_name": "Python 3 (ipykernel)",
   "language": "python",
   "name": "python3"
  },
  "language_info": {
   "codemirror_mode": {
    "name": "ipython",
    "version": 3
   },
   "file_extension": ".py",
   "mimetype": "text/x-python",
   "name": "python",
   "nbconvert_exporter": "python",
   "pygments_lexer": "ipython3",
   "version": "3.9.12"
  }
 },
 "nbformat": 4,
 "nbformat_minor": 5
}
